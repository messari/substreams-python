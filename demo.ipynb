{
 "cells": [
  {
   "cell_type": "code",
   "execution_count": 1,
   "metadata": {},
   "outputs": [],
   "source": [
    "from substreams import Substream"
   ]
  },
  {
   "cell_type": "code",
   "execution_count": 3,
   "metadata": {},
   "outputs": [],
   "source": [
    "import os\n",
    "SUBSTREAMS_API_TOKEN=os.getenv(\"SUBSTREAMS_API_TOKEN\")"
   ]
  },
  {
   "cell_type": "code",
   "execution_count": 25,
   "metadata": {},
   "outputs": [],
   "source": [
    "sb = Substream(\"erc20-contracts.spkg\", token=SUBSTREAMS_API_TOKEN)"
   ]
  },
  {
   "cell_type": "code",
   "execution_count": 26,
   "metadata": {},
   "outputs": [
    {
     "data": {
      "text/plain": [
       "{'map_block_to_erc20_contracts': {'is_map': True,\n",
       "  'output_type': 'proto:messari.common.v1.Addresses',\n",
       "  'initial_block': 1},\n",
       " 'map_block_to_transfers': {'is_map': True,\n",
       "  'output_type': 'proto:messari.erc20.v1.TransferEvents',\n",
       "  'initial_block': 10606500},\n",
       " 'store_transfers': {'is_map': False,\n",
       "  'output_type': 'proto:messari.erc20.v1.TransferEvents',\n",
       "  'initial_block': 10606500},\n",
       " 'store_balance': {'is_map': False,\n",
       "  'output_type': 'bigint',\n",
       "  'initial_block': 10606500},\n",
       " 'store_balance_usd': {'is_map': False,\n",
       "  'output_type': 'bigdecimal',\n",
       "  'initial_block': 10606500},\n",
       " 'erc20Price:map_eth_price': {'is_map': True,\n",
       "  'output_type': 'proto:messari.erc20_price.v1.Erc20Prices',\n",
       "  'initial_block': 13000000},\n",
       " 'erc20Price:store_chainlink_aggregator': {'is_map': False,\n",
       "  'output_type': 'proto:messari.chainlink.v1.Aggregator',\n",
       "  'initial_block': 10040530},\n",
       " 'erc20Price:store_chainlink_price': {'is_map': False,\n",
       "  'output_type': 'proto:messari.erc20_price.v1.Erc20Price',\n",
       "  'initial_block': 10040530},\n",
       " 'erc20Price:store_pair_created_events': {'is_map': False,\n",
       "  'output_type': 'proto:messari.uniswap.v1.PairCreatedEvent',\n",
       "  'initial_block': 10040530},\n",
       " 'erc20Price:store_uniswap_price': {'is_map': False,\n",
       "  'output_type': 'proto:messari.erc20_price.v1.Erc20Price',\n",
       "  'initial_block': 10040530}}"
      ]
     },
     "execution_count": 26,
     "metadata": {},
     "output_type": "execute_result"
    }
   ],
   "source": [
    "sb.output_modules"
   ]
  },
  {
   "cell_type": "code",
   "execution_count": 35,
   "metadata": {},
   "outputs": [],
   "source": [
    "results = sb.poll([\"map_block_to_erc20_contracts\"], start_block=565000, end_block=600000)"
   ]
  },
  {
   "cell_type": "code",
   "execution_count": 34,
   "metadata": {},
   "outputs": [
    {
     "data": {
      "text/plain": [
       "[SubstreamOutput(module_name='map_block_to_erc20_contracts', snapshots=Empty DataFrame\n",
       " Columns: [output_module]\n",
       " Index: [], data=                                      address                 output_module\n",
       " 0    32ab9729adde17aa26287fdfb0a0f499d726f1a4  map_block_to_erc20_contracts\n",
       " 1    50ce26e856fadc000cb962df79a2c94e717126ae  map_block_to_erc20_contracts\n",
       " 2    f32734545676c9b1b2bdb2ca2a9b5e9fccea69fa  map_block_to_erc20_contracts\n",
       " 3    cc73322b1e061e7247d6133a09c6544ead9773ab  map_block_to_erc20_contracts\n",
       " 4    de568fa1ba4c453a4ecd28eee6bf0a0f7517b224  map_block_to_erc20_contracts\n",
       " ..                                        ...                           ...\n",
       " 174  6897d77840c158676facda30eda1d46dfe962683  map_block_to_erc20_contracts\n",
       " 175  6beb85656cfefba72eeb854d8fab1c313754b612  map_block_to_erc20_contracts\n",
       " 176  9749fa4f63f8d4ae74fc5a5f69fc1cd7d85beabd  map_block_to_erc20_contracts\n",
       " 177  491e59358171dcf43b7846fc235e8a305057e8e1  map_block_to_erc20_contracts\n",
       " 178  151c0febeed92cd36a9694cc056595377ec3d2b2  map_block_to_erc20_contracts\n",
       " \n",
       " [179 rows x 2 columns])]"
      ]
     },
     "execution_count": 34,
     "metadata": {},
     "output_type": "execute_result"
    }
   ],
   "source": [
    "results"
   ]
  },
  {
   "cell_type": "code",
   "execution_count": null,
   "metadata": {},
   "outputs": [],
   "source": []
  }
 ],
 "metadata": {
  "kernelspec": {
   "display_name": "Python 3",
   "language": "python",
   "name": "python3"
  },
  "language_info": {
   "codemirror_mode": {
    "name": "ipython",
    "version": 3
   },
   "file_extension": ".py",
   "mimetype": "text/x-python",
   "name": "python",
   "nbconvert_exporter": "python",
   "pygments_lexer": "ipython3",
   "version": "3.10.9"
  },
  "orig_nbformat": 4,
  "vscode": {
   "interpreter": {
    "hash": "b0fa6594d8f4cbf19f97940f81e996739fb7646882a419484c72d19e05852a7e"
   }
  }
 },
 "nbformat": 4,
 "nbformat_minor": 2
}
