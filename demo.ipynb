{
 "cells": [
  {
   "cell_type": "code",
   "execution_count": 18,
   "metadata": {},
   "outputs": [],
   "source": [
    "from substreams import Substream"
   ]
  },
  {
   "cell_type": "code",
   "execution_count": 19,
   "metadata": {},
   "outputs": [],
   "source": [
    "import os\n",
    "SUBSTREAMS_API_TOKEN=os.getenv(\"SUBSTREAMS_API_TOKEN\")"
   ]
  },
  {
   "cell_type": "code",
   "execution_count": 20,
   "metadata": {},
   "outputs": [],
   "source": [
    "sb = Substream(\"erc20-contracts.spkg\", token=SUBSTREAMS_API_TOKEN)"
   ]
  },
  {
   "cell_type": "code",
   "execution_count": 21,
   "metadata": {},
   "outputs": [
    {
     "data": {
      "text/plain": [
       "{'map_block_to_erc20_contracts': {'is_map': True,\n",
       "  'output_type': 'proto:messari.common.v1.Addresses',\n",
       "  'initial_block': 1},\n",
       " 'map_block_to_transfers': {'is_map': True,\n",
       "  'output_type': 'proto:messari.erc20.v1.TransferEvents',\n",
       "  'initial_block': 10606500},\n",
       " 'store_transfers': {'is_map': False,\n",
       "  'output_type': 'proto:messari.erc20.v1.TransferEvents',\n",
       "  'initial_block': 10606500},\n",
       " 'store_balance': {'is_map': False,\n",
       "  'output_type': 'bigint',\n",
       "  'initial_block': 10606500},\n",
       " 'store_balance_usd': {'is_map': False,\n",
       "  'output_type': 'bigdecimal',\n",
       "  'initial_block': 10606500},\n",
       " 'erc20Price:map_eth_price': {'is_map': True,\n",
       "  'output_type': 'proto:messari.erc20_price.v1.Erc20Prices',\n",
       "  'initial_block': 13000000},\n",
       " 'erc20Price:store_chainlink_aggregator': {'is_map': False,\n",
       "  'output_type': 'proto:messari.chainlink.v1.Aggregator',\n",
       "  'initial_block': 10040530},\n",
       " 'erc20Price:store_chainlink_price': {'is_map': False,\n",
       "  'output_type': 'proto:messari.erc20_price.v1.Erc20Price',\n",
       "  'initial_block': 10040530},\n",
       " 'erc20Price:store_pair_created_events': {'is_map': False,\n",
       "  'output_type': 'proto:messari.uniswap.v1.PairCreatedEvent',\n",
       "  'initial_block': 10040530},\n",
       " 'erc20Price:store_uniswap_price': {'is_map': False,\n",
       "  'output_type': 'proto:messari.erc20_price.v1.Erc20Price',\n",
       "  'initial_block': 10040530}}"
      ]
     },
     "execution_count": 21,
     "metadata": {},
     "output_type": "execute_result"
    }
   ],
   "source": [
    "sb.output_modules"
   ]
  },
  {
   "cell_type": "code",
   "execution_count": 26,
   "metadata": {},
   "outputs": [],
   "source": [
    "results = sb.poll([\"map_block_to_erc20_contracts\"], start_block=565000, end_block=800000)"
   ]
  },
  {
   "cell_type": "code",
   "execution_count": 28,
   "metadata": {},
   "outputs": [
    {
     "data": {
      "text/plain": [
       "[SubstreamOutput(module_name='map_block_to_erc20_contracts', snapshots=Empty DataFrame\n",
       " Columns: [output_module]\n",
       " Index: [], data=                                       address                 output_module\n",
       " 0     32ab9729adde17aa26287fdfb0a0f499d726f1a4  map_block_to_erc20_contracts\n",
       " 1     50ce26e856fadc000cb962df79a2c94e717126ae  map_block_to_erc20_contracts\n",
       " 2     f32734545676c9b1b2bdb2ca2a9b5e9fccea69fa  map_block_to_erc20_contracts\n",
       " 3     cc73322b1e061e7247d6133a09c6544ead9773ab  map_block_to_erc20_contracts\n",
       " 4     de568fa1ba4c453a4ecd28eee6bf0a0f7517b224  map_block_to_erc20_contracts\n",
       " ...                                        ...                           ...\n",
       " 1562  22000584d50ac96c9c9c9eaf2868fd2aa3e39a4e  map_block_to_erc20_contracts\n",
       " 1563  c00fe0ed553df2f34b11f457b35110e74acefd55  map_block_to_erc20_contracts\n",
       " 1564  2ddbbed8a08b76d5ced6e6aa0a50fdfe41f98316  map_block_to_erc20_contracts\n",
       " 1565  b044496a4ed22765f6369580092e66c95d382495  map_block_to_erc20_contracts\n",
       " 1566  dd6af7685fd331db93a5d0deaae0b4e43d6c1f62  map_block_to_erc20_contracts\n",
       " \n",
       " [1567 rows x 2 columns])]"
      ]
     },
     "execution_count": 28,
     "metadata": {},
     "output_type": "execute_result"
    }
   ],
   "source": [
    "results"
   ]
  },
  {
   "cell_type": "code",
   "execution_count": 57,
   "metadata": {},
   "outputs": [
    {
     "ename": "TypeError",
     "evalue": "'SubstreamOutput' object is not subscriptable",
     "output_type": "error",
     "traceback": [
      "\u001b[0;31m---------------------------------------------------------------------------\u001b[0m",
      "\u001b[0;31mTypeError\u001b[0m                                 Traceback (most recent call last)",
      "Cell \u001b[0;32mIn[57], line 3\u001b[0m\n\u001b[1;32m      1\u001b[0m \u001b[39mimport\u001b[39;00m \u001b[39mcsv\u001b[39;00m\n\u001b[1;32m      2\u001b[0m file \u001b[39m=\u001b[39m \u001b[39mopen\u001b[39m(\u001b[39m\"\u001b[39m\u001b[39merc20-contracts.csv\u001b[39m\u001b[39m\"\u001b[39m, \u001b[39m\"\u001b[39m\u001b[39mw+\u001b[39m\u001b[39m\"\u001b[39m, newline\u001b[39m=\u001b[39m\u001b[39m'\u001b[39m\u001b[39m'\u001b[39m)\n\u001b[0;32m----> 3\u001b[0m file\u001b[39m.\u001b[39mwrite(\u001b[39mstr\u001b[39m(results[\u001b[39m0\u001b[39;49m][\u001b[39m0\u001b[39;49m]))\n",
      "\u001b[0;31mTypeError\u001b[0m: 'SubstreamOutput' object is not subscriptable"
     ]
    }
   ],
   "source": [
    "import csv\n",
    "file = open(\"erc20-contracts.csv\", \"w+\", newline='')\n",
    "file.write(str(results[0]))\n"
   ]
  }
 ],
 "metadata": {
  "kernelspec": {
   "display_name": "Python 3",
   "language": "python",
   "name": "python3"
  },
  "language_info": {
   "codemirror_mode": {
    "name": "ipython",
    "version": 3
   },
   "file_extension": ".py",
   "mimetype": "text/x-python",
   "name": "python",
   "nbconvert_exporter": "python",
   "pygments_lexer": "ipython3",
   "version": "3.10.9"
  },
  "orig_nbformat": 4,
  "vscode": {
   "interpreter": {
    "hash": "b0fa6594d8f4cbf19f97940f81e996739fb7646882a419484c72d19e05852a7e"
   }
  }
 },
 "nbformat": 4,
 "nbformat_minor": 2
}
